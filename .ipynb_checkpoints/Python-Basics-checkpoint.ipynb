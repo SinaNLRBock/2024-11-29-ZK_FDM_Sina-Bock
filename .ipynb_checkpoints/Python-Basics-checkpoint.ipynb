{
 "cells": [
  {
   "cell_type": "markdown",
   "id": "13d01830-ab9f-4a33-871f-661562829d97",
   "metadata": {},
   "source": [
    "# Python Einführung"
   ]
  },
  {
   "cell_type": "code",
   "execution_count": 1,
   "id": "e9a106c9-994e-4c2e-9532-f62619a9999d",
   "metadata": {},
   "outputs": [
    {
     "name": "stdout",
     "output_type": "stream",
     "text": [
      "Hello World!\n"
     ]
    }
   ],
   "source": [
    "print(\"Hello World!\")"
   ]
  },
  {
   "cell_type": "code",
   "execution_count": 4,
   "id": "8cfeb6d4-1915-4926-8b21-7d2db32406ef",
   "metadata": {},
   "outputs": [
    {
     "name": "stdout",
     "output_type": "stream",
     "text": [
      "Something\n"
     ]
    }
   ],
   "source": [
    "# Dies ist ein Kommentar\n",
    "# print (\"Something\")"
   ]
  },
  {
   "cell_type": "markdown",
   "id": "0508eece-9d29-42b4-8f39-3fef2e7baa6d",
   "metadata": {
    "editable": true,
    "slideshow": {
     "slide_type": ""
    },
    "tags": []
   },
   "source": [
    "## Einfache Datentypen"
   ]
  },
  {
   "cell_type": "code",
   "execution_count": 7,
   "id": "00b5d961-a9a5-437a-9bec-93e8ed8268d5",
   "metadata": {},
   "outputs": [],
   "source": [
    "# Variablen und wertezuweisungen\n",
    "name = \"Lovelace\""
   ]
  },
  {
   "cell_type": "code",
   "execution_count": 8,
   "id": "e501f87e-0b15-4eaf-b05b-4c8ada858d8f",
   "metadata": {},
   "outputs": [
    {
     "name": "stdout",
     "output_type": "stream",
     "text": [
      "Lovelace\n"
     ]
    }
   ],
   "source": [
    "print(name)"
   ]
  },
  {
   "cell_type": "code",
   "execution_count": 13,
   "id": "5097c6cf-e309-4e80-88df-9078e3379a48",
   "metadata": {},
   "outputs": [
    {
     "name": "stdout",
     "output_type": "stream",
     "text": [
      "Ada\n"
     ]
    }
   ],
   "source": [
    "# String - Zeichenkette\n",
    "first_name = \"Ada\"\n",
    "print(first_name)"
   ]
  },
  {
   "cell_type": "code",
   "execution_count": 14,
   "id": "e819f2b6-82d7-41ba-a794-8e79dafdd25d",
   "metadata": {},
   "outputs": [
    {
     "name": "stdout",
     "output_type": "stream",
     "text": [
      "37\n"
     ]
    }
   ],
   "source": [
    "# Integer - Ganzzahlen\n",
    "age = 37\n",
    "print(age)"
   ]
  },
  {
   "cell_type": "code",
   "execution_count": 16,
   "id": "0d4059fe-cba9-4622-bcb9-8e233efbf077",
   "metadata": {},
   "outputs": [
    {
     "name": "stdout",
     "output_type": "stream",
     "text": [
      "1.7123\n"
     ]
    }
   ],
   "source": [
    "size = 1.7123\n",
    "print(size)"
   ]
  },
  {
   "cell_type": "code",
   "execution_count": 21,
   "id": "dcc409a0-f379-4c95-b8a7-110eee601bd8",
   "metadata": {},
   "outputs": [
    {
     "name": "stdout",
     "output_type": "stream",
     "text": [
      "True\n",
      "False\n"
     ]
    }
   ],
   "source": [
    "knows_math = True\n",
    "print(knows_math)\n",
    "likes_gardening = False\n",
    "print(likes_gardening)"
   ]
  },
  {
   "cell_type": "code",
   "execution_count": 22,
   "id": "98b5854d-57b8-465c-ad0a-9d2f27c6d20c",
   "metadata": {
    "scrolled": true
   },
   "outputs": [
    {
     "data": {
      "text/plain": [
       "str"
      ]
     },
     "execution_count": 22,
     "metadata": {},
     "output_type": "execute_result"
    }
   ],
   "source": [
    "type(name)"
   ]
  },
  {
   "cell_type": "code",
   "execution_count": 24,
   "id": "80e939a6-9b16-4e5d-90f9-bf1beda429e9",
   "metadata": {},
   "outputs": [
    {
     "name": "stdout",
     "output_type": "stream",
     "text": [
      "Lovelace\n",
      "37\n"
     ]
    }
   ],
   "source": [
    "print(name)\n",
    "print(age)"
   ]
  },
  {
   "cell_type": "markdown",
   "id": "5b49d424-7646-4064-b4a4-54ed27e75fbc",
   "metadata": {},
   "source": [
    "## Operatoren"
   ]
  },
  {
   "cell_type": "code",
   "execution_count": 26,
   "id": "ecd86df6-8140-45d5-9e35-5095ec67acb9",
   "metadata": {},
   "outputs": [
    {
     "data": {
      "text/plain": [
       "10"
      ]
     },
     "execution_count": 26,
     "metadata": {},
     "output_type": "execute_result"
    }
   ],
   "source": [
    "# Addition\n",
    "5 + 5"
   ]
  },
  {
   "cell_type": "code",
   "execution_count": 27,
   "id": "9eb4ab4a-134a-4471-b8a3-509f467d3946",
   "metadata": {},
   "outputs": [
    {
     "data": {
      "text/plain": [
       "3700"
      ]
     },
     "execution_count": 27,
     "metadata": {},
     "output_type": "execute_result"
    }
   ],
   "source": [
    "age * 100"
   ]
  },
  {
   "cell_type": "code",
   "execution_count": 28,
   "id": "aae57a7e-b1c1-4519-a4a6-d87169769acc",
   "metadata": {},
   "outputs": [
    {
     "data": {
      "text/plain": [
       "'LovelaceLovelace'"
      ]
     },
     "execution_count": 28,
     "metadata": {},
     "output_type": "execute_result"
    }
   ],
   "source": [
    "name + name"
   ]
  },
  {
   "cell_type": "code",
   "execution_count": 29,
   "id": "a47897e7-58a1-486c-8645-0e3e5d4401c8",
   "metadata": {},
   "outputs": [
    {
     "data": {
      "text/plain": [
       "'Ada Lovelace'"
      ]
     },
     "execution_count": 29,
     "metadata": {},
     "output_type": "execute_result"
    }
   ],
   "source": [
    "first_name + \" \" + name"
   ]
  },
  {
   "cell_type": "code",
   "execution_count": 33,
   "id": "eeba4aed-30b4-4c18-a694-037318721947",
   "metadata": {},
   "outputs": [],
   "source": [
    "number_of_articles = \"50\""
   ]
  },
  {
   "cell_type": "code",
   "execution_count": 34,
   "id": "229904a8-1284-4e6a-b461-1505eae4f6de",
   "metadata": {},
   "outputs": [
    {
     "data": {
      "text/plain": [
       "5.0"
      ]
     },
     "execution_count": 34,
     "metadata": {},
     "output_type": "execute_result"
    }
   ],
   "source": [
    "int (number_of_articles) / 10"
   ]
  },
  {
   "cell_type": "markdown",
   "id": "bb5b4f83-f74f-4ef8-844a-386b46b6bf8c",
   "metadata": {},
   "source": [
    "## Funktionen und Methoden"
   ]
  },
  {
   "cell_type": "code",
   "execution_count": 38,
   "id": "a20dc57f-69dc-4865-aaec-93ef486e7edf",
   "metadata": {},
   "outputs": [
    {
     "data": {
      "text/plain": [
       "8"
      ]
     },
     "execution_count": 38,
     "metadata": {},
     "output_type": "execute_result"
    }
   ],
   "source": [
    "# Funktion\n",
    "len(name)"
   ]
  },
  {
   "cell_type": "code",
   "execution_count": 37,
   "id": "c4ec0072-c2b4-45d4-8e3f-3064e342e3cd",
   "metadata": {},
   "outputs": [
    {
     "data": {
      "text/plain": [
       "'LOVELACE'"
      ]
     },
     "execution_count": 37,
     "metadata": {},
     "output_type": "execute_result"
    }
   ],
   "source": [
    "# Methode\n",
    "name.upper()"
   ]
  },
  {
   "cell_type": "code",
   "execution_count": 39,
   "id": "59d0f3f5-20cc-4ce9-b6d5-84273ae85787",
   "metadata": {},
   "outputs": [
    {
     "data": {
      "text/plain": [
       "2"
      ]
     },
     "execution_count": 39,
     "metadata": {},
     "output_type": "execute_result"
    }
   ],
   "source": [
    "name.count(\"e\")"
   ]
  },
  {
   "cell_type": "code",
   "execution_count": 40,
   "id": "4f50532e-f4fa-476f-bb5c-520e981c03d6",
   "metadata": {},
   "outputs": [
    {
     "data": {
      "text/plain": [
       "1"
      ]
     },
     "execution_count": 40,
     "metadata": {},
     "output_type": "execute_result"
    }
   ],
   "source": [
    "name.count(\"l\")"
   ]
  },
  {
   "cell_type": "code",
   "execution_count": 41,
   "id": "40957c49-5eeb-43ab-9681-2d1ff7cfab1c",
   "metadata": {},
   "outputs": [
    {
     "data": {
      "text/plain": [
       "2"
      ]
     },
     "execution_count": 41,
     "metadata": {},
     "output_type": "execute_result"
    }
   ],
   "source": [
    "name.upper().count(\"L\")"
   ]
  },
  {
   "cell_type": "code",
   "execution_count": 42,
   "id": "2465a9f7-3568-4891-9ecc-5eaab88b8e0c",
   "metadata": {},
   "outputs": [],
   "source": [
    "name_upper = name.upper()"
   ]
  },
  {
   "cell_type": "code",
   "execution_count": 43,
   "id": "986f57d0-76da-4b1b-af22-40d9d43aef29",
   "metadata": {},
   "outputs": [
    {
     "data": {
      "text/plain": [
       "'LOVELACE'"
      ]
     },
     "execution_count": 43,
     "metadata": {},
     "output_type": "execute_result"
    }
   ],
   "source": [
    "name_upper"
   ]
  },
  {
   "cell_type": "code",
   "execution_count": 46,
   "id": "ecd3d023-31de-40d2-b064-c4a8c25077e7",
   "metadata": {},
   "outputs": [
    {
     "data": {
      "text/plain": [
       "'Loveis everywhere'"
      ]
     },
     "execution_count": 46,
     "metadata": {},
     "output_type": "execute_result"
    }
   ],
   "source": [
    "# Methode mit zwei Argumenten\n",
    "name.replace(\"lace\", \"is everywhere\")"
   ]
  },
  {
   "cell_type": "markdown",
   "id": "7178f885-c8f5-45f1-82d8-a8ace56490da",
   "metadata": {},
   "source": [
    "## Listen und Dictionaries"
   ]
  },
  {
   "cell_type": "code",
   "execution_count": 48,
   "id": "aec85616-23f6-4442-a409-f7d8fd339d37",
   "metadata": {},
   "outputs": [],
   "source": [
    "names = [\"Lovelace\", \"Darwin\", \"Noether\", \"Hawking\"]"
   ]
  },
  {
   "cell_type": "code",
   "execution_count": 49,
   "id": "09ffa177-44b1-4ce1-a378-bc10b47f037d",
   "metadata": {},
   "outputs": [
    {
     "data": {
      "text/plain": [
       "'Darwin'"
      ]
     },
     "execution_count": 49,
     "metadata": {},
     "output_type": "execute_result"
    }
   ],
   "source": [
    "names[1]"
   ]
  },
  {
   "cell_type": "code",
   "execution_count": 50,
   "id": "a2ad251c-3b12-4d67-814b-aa2f2e93a1a3",
   "metadata": {},
   "outputs": [
    {
     "data": {
      "text/plain": [
       "'Lovelace'"
      ]
     },
     "execution_count": 50,
     "metadata": {},
     "output_type": "execute_result"
    }
   ],
   "source": [
    "names[0]"
   ]
  },
  {
   "cell_type": "code",
   "execution_count": 51,
   "id": "fc8a9e75-9ab1-41ce-935e-1cc17c03bcbd",
   "metadata": {},
   "outputs": [
    {
     "data": {
      "text/plain": [
       "['Lovelace', 'Darwin', 'Noether']"
      ]
     },
     "execution_count": 51,
     "metadata": {},
     "output_type": "execute_result"
    }
   ],
   "source": [
    "names[0:3]"
   ]
  },
  {
   "cell_type": "code",
   "execution_count": 87,
   "id": "ebaedde6-36b3-426a-a678-a6d0f3dee4a5",
   "metadata": {},
   "outputs": [],
   "source": [
    "# Schlüssel - Wertepaar bei Dict\n",
    "authors_and_birth_years = {\"Lovelace\": 1815,\n",
    "                          \"Darwin\": 1900,\n",
    "                          \"Noether\": 1915,\n",
    "                          \"Hawking\": 1955}"
   ]
  },
  {
   "cell_type": "code",
   "execution_count": 60,
   "id": "f69e064b-ceb0-4cbe-9218-597257c17b62",
   "metadata": {},
   "outputs": [
    {
     "data": {
      "text/plain": [
       "1815"
      ]
     },
     "execution_count": 60,
     "metadata": {},
     "output_type": "execute_result"
    }
   ],
   "source": [
    "authors_and_birth_years[\"Lovelace\"]"
   ]
  },
  {
   "cell_type": "code",
   "execution_count": 61,
   "id": "c8eb30f4-f243-40a6-be0b-21b6854939d6",
   "metadata": {},
   "outputs": [
    {
     "data": {
      "text/plain": [
       "dict_keys(['Lovelace', 'Darwin', 'Noether', 'Hawking'])"
      ]
     },
     "execution_count": 61,
     "metadata": {},
     "output_type": "execute_result"
    }
   ],
   "source": [
    "authors_and_birth_years.keys()"
   ]
  },
  {
   "cell_type": "code",
   "execution_count": 62,
   "id": "e594bce0-b196-4f53-9f8f-e17bf1b5e0b9",
   "metadata": {},
   "outputs": [
    {
     "data": {
      "text/plain": [
       "dict_values([1815, 1900, 1915, 1955])"
      ]
     },
     "execution_count": 62,
     "metadata": {},
     "output_type": "execute_result"
    }
   ],
   "source": [
    "authors_and_birth_years.values()"
   ]
  },
  {
   "cell_type": "markdown",
   "id": "34944071-2f78-402b-91ac-4c63d8c0a143",
   "metadata": {},
   "source": [
    "## For-Schleife"
   ]
  },
  {
   "cell_type": "code",
   "execution_count": 65,
   "id": "0e0f312e-b644-4cae-8e56-d6d656d92ce7",
   "metadata": {},
   "outputs": [
    {
     "data": {
      "text/plain": [
       "['Lovelace', 'Darwin', 'Noether', 'Hawking']"
      ]
     },
     "execution_count": 65,
     "metadata": {},
     "output_type": "execute_result"
    }
   ],
   "source": [
    "names"
   ]
  },
  {
   "cell_type": "code",
   "execution_count": 66,
   "id": "14de73b0-2c6f-4cc6-b0d7-c7ba945e6ec3",
   "metadata": {},
   "outputs": [
    {
     "name": "stdout",
     "output_type": "stream",
     "text": [
      "Lovelace did awesome stuff.\n",
      "Darwin did awesome stuff.\n",
      "Noether did awesome stuff.\n",
      "Hawking did awesome stuff.\n"
     ]
    }
   ],
   "source": [
    "for person in names:\n",
    "    print(person + \" did awesome stuff.\")"
   ]
  },
  {
   "cell_type": "code",
   "execution_count": 68,
   "id": "7106cf06-b797-4d2b-9db3-94b3b6d19198",
   "metadata": {},
   "outputs": [
    {
     "name": "stdout",
     "output_type": "stream",
     "text": [
      "Lovelace did awesome stuff.\n",
      "-----\n",
      "Darwin did awesome stuff.\n",
      "-----\n",
      "Noether did awesome stuff.\n",
      "-----\n",
      "Hawking did awesome stuff.\n",
      "-----\n"
     ]
    }
   ],
   "source": [
    "for person in names:\n",
    "    print(person + \" did awesome stuff.\")\n",
    "    print(\"-----\")"
   ]
  },
  {
   "cell_type": "code",
   "execution_count": 69,
   "id": "74ad3236-dd6c-4876-b9c2-adffd5d92feb",
   "metadata": {},
   "outputs": [
    {
     "name": "stdout",
     "output_type": "stream",
     "text": [
      "Hawking\n"
     ]
    }
   ],
   "source": [
    "print(person)"
   ]
  },
  {
   "cell_type": "code",
   "execution_count": 73,
   "id": "f70eed66-37b6-43f6-92af-784f74e98c97",
   "metadata": {},
   "outputs": [
    {
     "name": "stdout",
     "output_type": "stream",
     "text": [
      "Variable                  Type     Data/Info\n",
      "--------------------------------------------\n",
      "age                       int      37\n",
      "authors_and_birth_years   dict     n=4\n",
      "first_name                str      Ada\n",
      "knows_math                bool     True\n",
      "likes_gardening           bool     False\n",
      "name                      str      Lovelace\n",
      "name_upper                str      LOVELACE\n",
      "names                     list     n=4\n",
      "number_of_articles        str      50\n",
      "size                      float    1.7123\n"
     ]
    }
   ],
   "source": [
    "# Variablen\n",
    "%whos"
   ]
  },
  {
   "cell_type": "code",
   "execution_count": 74,
   "id": "eb8266be-b565-4730-8fc0-48d5b3fbaaa7",
   "metadata": {},
   "outputs": [
    {
     "ename": "NameError",
     "evalue": "name 'person' is not defined",
     "output_type": "error",
     "traceback": [
      "\u001b[1;31m---------------------------------------------------------------------------\u001b[0m",
      "\u001b[1;31mNameError\u001b[0m                                 Traceback (most recent call last)",
      "Cell \u001b[1;32mIn[74], line 1\u001b[0m\n\u001b[1;32m----> 1\u001b[0m \u001b[38;5;28;01mdel\u001b[39;00m \u001b[43mperson\u001b[49m\n",
      "\u001b[1;31mNameError\u001b[0m: name 'person' is not defined"
     ]
    }
   ],
   "source": [
    "del person"
   ]
  },
  {
   "cell_type": "code",
   "execution_count": 75,
   "id": "3d40aba8-9e77-4969-b353-6a335bbab5c6",
   "metadata": {},
   "outputs": [
    {
     "name": "stdout",
     "output_type": "stream",
     "text": [
      "Variable                  Type     Data/Info\n",
      "--------------------------------------------\n",
      "age                       int      37\n",
      "authors_and_birth_years   dict     n=4\n",
      "first_name                str      Ada\n",
      "knows_math                bool     True\n",
      "likes_gardening           bool     False\n",
      "name                      str      Lovelace\n",
      "name_upper                str      LOVELACE\n",
      "names                     list     n=4\n",
      "number_of_articles        str      50\n",
      "size                      float    1.7123\n"
     ]
    }
   ],
   "source": [
    "%whos"
   ]
  },
  {
   "cell_type": "markdown",
   "id": "73c45581-0bf9-4a35-96d9-825107c13a9a",
   "metadata": {},
   "source": [
    "# Conditionals (Bedingte Anweisungen)"
   ]
  },
  {
   "cell_type": "code",
   "execution_count": 78,
   "id": "eff05d62-c650-4f5b-b2bf-128d479fdb06",
   "metadata": {},
   "outputs": [],
   "source": [
    "temp = 20"
   ]
  },
  {
   "cell_type": "code",
   "execution_count": 79,
   "id": "77a03810-7a2e-4528-a832-ee97ef0cddf6",
   "metadata": {},
   "outputs": [
    {
     "name": "stdout",
     "output_type": "stream",
     "text": [
      "Es ist warm\n"
     ]
    }
   ],
   "source": [
    "if temp > 15:\n",
    "    print(\"Es ist warm\")"
   ]
  },
  {
   "cell_type": "code",
   "execution_count": 80,
   "id": "517ae042-95d7-42f8-b96f-d5787f81672a",
   "metadata": {},
   "outputs": [
    {
     "data": {
      "text/plain": [
       "True"
      ]
     },
     "execution_count": 80,
     "metadata": {},
     "output_type": "execute_result"
    }
   ],
   "source": [
    "20 > 15"
   ]
  },
  {
   "cell_type": "code",
   "execution_count": 82,
   "id": "a3ac64f7-c719-4997-b66f-e9569f5bc317",
   "metadata": {},
   "outputs": [
    {
     "name": "stdout",
     "output_type": "stream",
     "text": [
      "Es ist kalt\n"
     ]
    }
   ],
   "source": [
    "temp = 10\n",
    "if temp > 15:\n",
    "    print(\"Es ist warm\")\n",
    "else:\n",
    "    print(\"Es ist kalt\")"
   ]
  },
  {
   "cell_type": "code",
   "execution_count": 85,
   "id": "da762a5b-9321-4675-8f08-c8da4fdee403",
   "metadata": {},
   "outputs": [
    {
     "name": "stdout",
     "output_type": "stream",
     "text": [
      "Es ist heiß\n"
     ]
    }
   ],
   "source": [
    "temp = 33\n",
    "\n",
    "if temp > 25:\n",
    "    print(\"Es ist heiß\")\n",
    "elif temp >= 15:\n",
    "    print(\"Es ist warm\")\n",
    "else:\n",
    "    print(\"Es ist kalt\")"
   ]
  },
  {
   "cell_type": "code",
   "execution_count": 89,
   "id": "2a172636-4719-42d2-a57e-5244b80aec53",
   "metadata": {},
   "outputs": [
    {
     "name": "stdout",
     "output_type": "stream",
     "text": [
      "Es ist warm\n"
     ]
    }
   ],
   "source": [
    "# Reihenfolge Schleifen\n",
    "temp = 33\n",
    "if temp >= 15:\n",
    "    print(\"Es ist warm\")\n",
    "elif temp > 25:\n",
    "    print(\"Es ist heiß\")\n",
    "else:\n",
    "    print(\"Es ist kalt\")"
   ]
  },
  {
   "cell_type": "code",
   "execution_count": 90,
   "id": "e9542574-dafe-4b0c-a7da-a16af20f8948",
   "metadata": {},
   "outputs": [
    {
     "name": "stdout",
     "output_type": "stream",
     "text": [
      "Requirement already satisfied: pandas in c:\\users\\sbock2\\appdata\\local\\miniforge3\\lib\\site-packages (2.2.3)\n",
      "Requirement already satisfied: numpy>=1.26.0 in c:\\users\\sbock2\\appdata\\local\\miniforge3\\lib\\site-packages (from pandas) (2.1.3)\n",
      "Requirement already satisfied: python-dateutil>=2.8.2 in c:\\users\\sbock2\\appdata\\local\\miniforge3\\lib\\site-packages (from pandas) (2.9.0.post0)\n",
      "Requirement already satisfied: pytz>=2020.1 in c:\\users\\sbock2\\appdata\\local\\miniforge3\\lib\\site-packages (from pandas) (2024.1)\n",
      "Requirement already satisfied: tzdata>=2022.7 in c:\\users\\sbock2\\appdata\\local\\miniforge3\\lib\\site-packages (from pandas) (2024.2)\n",
      "Requirement already satisfied: six>=1.5 in c:\\users\\sbock2\\appdata\\local\\miniforge3\\lib\\site-packages (from python-dateutil>=2.8.2->pandas) (1.16.0)\n"
     ]
    }
   ],
   "source": [
    "!pip install pandas"
   ]
  },
  {
   "cell_type": "code",
   "execution_count": null,
   "id": "7f7f9cec-f62f-4bcf-941e-62602d6b2264",
   "metadata": {},
   "outputs": [],
   "source": []
  }
 ],
 "metadata": {
  "kernelspec": {
   "display_name": "Python 3 (ipykernel)",
   "language": "python",
   "name": "python3"
  },
  "language_info": {
   "codemirror_mode": {
    "name": "ipython",
    "version": 3
   },
   "file_extension": ".py",
   "mimetype": "text/x-python",
   "name": "python",
   "nbconvert_exporter": "python",
   "pygments_lexer": "ipython3",
   "version": "3.12.7"
  }
 },
 "nbformat": 4,
 "nbformat_minor": 5
}
